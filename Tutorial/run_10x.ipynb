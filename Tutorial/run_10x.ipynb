{
 "cells": [
  {
   "cell_type": "code",
   "execution_count": 1,
   "id": "initial_id",
   "metadata": {
    "ExecuteTime": {
     "end_time": "2024-09-30T16:15:54.084848100Z",
     "start_time": "2024-09-30T16:15:54.084848100Z"
    }
   },
   "outputs": [],
   "source": [
    "#-*- coding : utf-8 -*-\n",
    "import os,csv,re\n",
    "import pandas as pd\n",
    "import numpy as np\n",
    "import scanpy as sc\n",
    "import matplotlib.pyplot as plt\n",
    "from sklearn.metrics.cluster import adjusted_rand_score\n",
    "from stMMR.utils import *\n",
    "from stMMR.process import *\n",
    "from stMMR import train_model"
   ]
  },
  {
   "cell_type": "code",
   "execution_count": 2,
   "id": "330652011685489e",
   "metadata": {},
   "outputs": [],
   "source": [
    "section_id = \"V1_Breast_Cancer_Block_A_Section_1\"\n",
    "k=20"
   ]
  },
  {
   "cell_type": "code",
   "execution_count": 3,
   "id": "f886ddc2",
   "metadata": {},
   "outputs": [
    {
     "name": "stdout",
     "output_type": "stream",
     "text": [
      "V1_Breast_Cancer_Block_A_Section_1 20\n"
     ]
    }
   ],
   "source": [
    "im_re = pd.read_csv(os.path.join('../Data',section_id,\n",
    "        \"image_representation/VIT_pca_representation.csv\"), header=0, index_col=0, sep=',')\n",
    "print(section_id, k)"
   ]
  },
  {
   "cell_type": "code",
   "execution_count": 4,
   "id": "15fdf3ba",
   "metadata": {},
   "outputs": [],
   "source": [
    "adata = sc.read_visium(\"../Data/V1_Breast_Cancer_Block_A_Section_1\",\n",
    "                count_file=\"V1_Breast_Cancer_Block_A_Section_1_filtered_feature_bc_matrix.h5\")\n",
    "adata.var_names_make_unique()\n",
    "prefilter_genes(adata, min_cells=3)  # avoiding all genes are zeros\n",
    "# prefilter_specialgenes(adata)\n",
    "sc.pp.highly_variable_genes(adata, flavor=\"seurat_v3\", n_top_genes=3000)\n",
    "sc.pp.normalize_per_cell(adata)\n",
    "sc.pp.log1p(adata)\n",
    "adata.obsm[\"im_re\"] = im_re\n",
    "\n",
    "Ann_df = pd.read_csv(\"../Data/V1_Breast_Cancer_Block_A_Section_1/metadata.tsv\", sep=\"\t\", header=0, na_filter=False,\n",
    "                     index_col=0)\n",
    "adata.obs['Ground Truth'] = Ann_df.loc[adata.obs_names, 'fine_annot_type']\n",
    "adata.obs['ground_truth'] = adata.obs['Ground Truth']\n",
    "adata =  adata[:, adata.var['highly_variable']]"
   ]
  },
  {
   "cell_type": "code",
   "execution_count": 5,
   "id": "f018ee1e",
   "metadata": {},
   "outputs": [
    {
     "name": "stdout",
     "output_type": "stream",
     "text": [
      "[2024-10-01 17:05:18] Epoch: 0/200, Loss: 17.4305\n",
      "[2024-10-01 17:05:54] Epoch: 5/200, Loss: 17.4265\n",
      "[2024-10-01 17:06:28] Epoch: 10/200, Loss: 17.4225\n",
      "[2024-10-01 17:07:01] Epoch: 15/200, Loss: 17.4184\n",
      "[2024-10-01 17:07:35] Epoch: 20/200, Loss: 17.4142\n",
      "[2024-10-01 17:08:09] Epoch: 25/200, Loss: 17.4104\n",
      "[2024-10-01 17:08:43] Epoch: 30/200, Loss: 17.4063\n",
      "[2024-10-01 17:09:16] Epoch: 35/200, Loss: 17.4028\n",
      "[2024-10-01 17:09:48] Epoch: 40/200, Loss: 17.3987\n",
      "[2024-10-01 17:10:22] Epoch: 45/200, Loss: 17.3945\n",
      "[2024-10-01 17:10:55] Epoch: 50/200, Loss: 17.3904\n",
      "[2024-10-01 17:11:28] Epoch: 55/200, Loss: 17.3865\n",
      "[2024-10-01 17:12:06] Epoch: 60/200, Loss: 17.3823\n",
      "[2024-10-01 17:12:46] Epoch: 65/200, Loss: 17.3787\n",
      "[2024-10-01 17:13:20] Epoch: 70/200, Loss: 17.3743\n",
      "[2024-10-01 17:13:55] Epoch: 75/200, Loss: 17.3702\n",
      "[2024-10-01 17:14:29] Epoch: 80/200, Loss: 17.3669\n",
      "[2024-10-01 17:15:02] Epoch: 85/200, Loss: 17.3624\n",
      "[2024-10-01 17:15:35] Epoch: 90/200, Loss: 17.3589\n",
      "[2024-10-01 17:16:08] Epoch: 95/200, Loss: 17.3551\n",
      "[2024-10-01 17:16:41] Epoch: 100/200, Loss: 17.3511\n",
      "[2024-10-01 17:17:15] Epoch: 105/200, Loss: 17.3468\n",
      "[2024-10-01 17:17:48] Epoch: 110/200, Loss: 17.3426\n",
      "[2024-10-01 17:18:21] Epoch: 115/200, Loss: 17.3389\n",
      "[2024-10-01 17:18:54] Epoch: 120/200, Loss: 17.3352\n",
      "[2024-10-01 17:19:28] Epoch: 125/200, Loss: 17.3311\n",
      "[2024-10-01 17:20:01] Epoch: 130/200, Loss: 17.3277\n",
      "[2024-10-01 17:20:34] Epoch: 135/200, Loss: 17.3230\n",
      "[2024-10-01 17:21:07] Epoch: 140/200, Loss: 17.3197\n",
      "[2024-10-01 17:21:40] Epoch: 145/200, Loss: 17.3157\n",
      "[2024-10-01 17:22:13] Epoch: 150/200, Loss: 17.3117\n",
      "[2024-10-01 17:22:46] Epoch: 155/200, Loss: 17.3077\n",
      "[2024-10-01 17:23:19] Epoch: 160/200, Loss: 17.3035\n",
      "[2024-10-01 17:23:52] Epoch: 165/200, Loss: 17.2999\n",
      "[2024-10-01 17:24:25] Epoch: 170/200, Loss: 17.2959\n",
      "[2024-10-01 17:24:59] Epoch: 175/200, Loss: 17.2920\n",
      "[2024-10-01 17:25:31] Epoch: 180/200, Loss: 17.2883\n",
      "[2024-10-01 17:26:04] Epoch: 185/200, Loss: 17.2841\n",
      "[2024-10-01 17:26:37] Epoch: 190/200, Loss: 17.2806\n",
      "[2024-10-01 17:27:11] Epoch: 195/200, Loss: 17.2764\n",
      "Ari= 0.5091037690672154\n"
     ]
    }
   ],
   "source": [
    "adata.obsm[\"adj\"] = calculate_adj_matrix(adata)\n",
    "adata= train_model.train(adata,k,n_epochs=200,h=[3000,3000],l=0.63,lr=0.0000001,radius=50)"
   ]
  },
  {
   "cell_type": "code",
   "execution_count": 6,
   "id": "6445a575",
   "metadata": {},
   "outputs": [
    {
     "name": "stdout",
     "output_type": "stream",
     "text": [
      "Adjusted rand index = 0.64748\n"
     ]
    }
   ],
   "source": [
    "obs_df = adata.obs.dropna()\n",
    "ARI = adjusted_rand_score(obs_df['stMMR'], obs_df['Ground Truth'])\n",
    "print('Adjusted rand index = %.5f' % ARI)"
   ]
  }
 ],
 "metadata": {
  "kernelspec": {
   "display_name": "Python 3 (ipykernel)",
   "language": "python",
   "name": "python3"
  },
  "language_info": {
   "codemirror_mode": {
    "name": "ipython",
    "version": 3
   },
   "file_extension": ".py",
   "mimetype": "text/x-python",
   "name": "python",
   "nbconvert_exporter": "python",
   "pygments_lexer": "ipython3",
   "version": "3.7.12"
  }
 },
 "nbformat": 4,
 "nbformat_minor": 5
}
